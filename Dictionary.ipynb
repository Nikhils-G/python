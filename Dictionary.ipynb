{
 "cells": [
  {
   "cell_type": "markdown",
   "id": "e7b828f5",
   "metadata": {},
   "source": [
    "# dictionary"
   ]
  },
  {
   "cell_type": "markdown",
   "id": "8779698d",
   "metadata": {},
   "source": [
    "\n",
    "# has key value pair data structure\n",
    "# key should be unique \n",
    "# the values can be duplicated\n",
    "# value can be retrived using key\\\n",
    "# key cannot be retrived using value"
   ]
  },
  {
   "cell_type": "code",
   "execution_count": 8,
   "id": "513cade4",
   "metadata": {},
   "outputs": [
    {
     "data": {
      "text/plain": [
       "{1: 'people', 2: 'of this country', 3: 'live with the equality'}"
      ]
     },
     "execution_count": 8,
     "metadata": {},
     "output_type": "execute_result"
    }
   ],
   "source": [
    "dict={1:\"people\",2:\"it self\",3:\"live with the equality\",2:\"of this country\"}\n",
    "dict"
   ]
  },
  {
   "cell_type": "code",
   "execution_count": 9,
   "id": "3eab8887",
   "metadata": {},
   "outputs": [
    {
     "data": {
      "text/plain": [
       "'people'"
      ]
     },
     "execution_count": 9,
     "metadata": {},
     "output_type": "execute_result"
    }
   ],
   "source": [
    "dict[1]"
   ]
  },
  {
   "cell_type": "code",
   "execution_count": 10,
   "id": "808bb5fb",
   "metadata": {},
   "outputs": [
    {
     "data": {
      "text/plain": [
       "('people', 'of this country', 'live with the equality')"
      ]
     },
     "execution_count": 10,
     "metadata": {},
     "output_type": "execute_result"
    }
   ],
   "source": [
    "dict[1],dict[2],dict[3]"
   ]
  },
  {
   "cell_type": "code",
   "execution_count": 11,
   "id": "e81c4247",
   "metadata": {},
   "outputs": [
    {
     "data": {
      "text/plain": [
       "{1: 'people',\n",
       " 2: 'of this country',\n",
       " 3: 'live with the equality',\n",
       " 4: 'and the country name is'}"
      ]
     },
     "execution_count": 11,
     "metadata": {},
     "output_type": "execute_result"
    }
   ],
   "source": [
    "dict[4]=\"and the country name is\"\n",
    "dict"
   ]
  },
  {
   "cell_type": "code",
   "execution_count": 12,
   "id": "14ac5831",
   "metadata": {},
   "outputs": [
    {
     "data": {
      "text/plain": [
       "'   India   '"
      ]
     },
     "execution_count": 12,
     "metadata": {},
     "output_type": "execute_result"
    }
   ],
   "source": [
    "dict[5]=\"   India   \"\n",
    "dict[5]"
   ]
  },
  {
   "cell_type": "code",
   "execution_count": 13,
   "id": "b6ac9a13",
   "metadata": {},
   "outputs": [
    {
     "data": {
      "text/plain": [
       "('people',\n",
       " 'of this country',\n",
       " 'live with the equality',\n",
       " 'and the country name is',\n",
       " '   India   ')"
      ]
     },
     "execution_count": 13,
     "metadata": {},
     "output_type": "execute_result"
    }
   ],
   "source": [
    "dict[1],dict[2],dict[3],dict[4],dict[5]"
   ]
  },
  {
   "cell_type": "code",
   "execution_count": 14,
   "id": "9a226125",
   "metadata": {},
   "outputs": [
    {
     "data": {
      "text/plain": [
       "{1: 'people',\n",
       " 2: 'of this country',\n",
       " 3: 'live with the equality',\n",
       " 4: 'and the country name is',\n",
       " 5: '   India   '}"
      ]
     },
     "execution_count": 14,
     "metadata": {},
     "output_type": "execute_result"
    }
   ],
   "source": [
    "dict"
   ]
  },
  {
   "cell_type": "code",
   "execution_count": null,
   "id": "bc74c39c",
   "metadata": {},
   "outputs": [],
   "source": []
  }
 ],
 "metadata": {
  "kernelspec": {
   "display_name": "Python 3 (ipykernel)",
   "language": "python",
   "name": "python3"
  },
  "language_info": {
   "codemirror_mode": {
    "name": "ipython",
    "version": 3
   },
   "file_extension": ".py",
   "mimetype": "text/x-python",
   "name": "python",
   "nbconvert_exporter": "python",
   "pygments_lexer": "ipython3",
   "version": "3.10.9"
  }
 },
 "nbformat": 4,
 "nbformat_minor": 5
}
