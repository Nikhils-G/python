{
 "cells": [
  {
   "cell_type": "code",
   "execution_count": 1,
   "id": "3ed6df24-4fd6-430c-8afa-6504590ef7fb",
   "metadata": {},
   "outputs": [],
   "source": [
    "# PROJECT 1\n",
    "# SNAKE, WATER, GUNGAME"
   ]
  },
  {
   "cell_type": "code",
   "execution_count": 3,
   "id": "dc33db0c-622a-4225-a403-ecaf15221d5b",
   "metadata": {},
   "outputs": [
    {
     "name": "stdin",
     "output_type": "stream",
     "text": [
      "Enter your choice:  s\n"
     ]
    },
    {
     "name": "stdout",
     "output_type": "stream",
     "text": [
      "You chose snake\n",
      "Computer chose gun\n",
      "You Lose!\n"
     ]
    }
   ],
   "source": [
    "\n",
    "import random\n",
    "computer = random.choice([-1, 0, 1])\n",
    "youstr = input(\"Enter your choice: \")\n",
    "youDict = {\"s\":1, \"w\":-1, \"g\":0}\n",
    "reverseDict = {1:\"snake\", -1:\"water\", 0:\"gun\"}\n",
    "\n",
    "you = youDict[youstr]\n",
    "\n",
    "print(f\"You chose {reverseDict[you]}\\nComputer chose {reverseDict[computer]}\")\n",
    "\n",
    "\n",
    "if(computer == -1 and you == 1):\n",
    "    print(\"You win!\")\n",
    "elif(computer == -1 and you == 0):\n",
    "    print(\"You Lose!\")\n",
    "elif(computer == 1 and you == -1):\n",
    "    print(\"You Lose!\")\n",
    "elif(computer == 1 and you == 0):\n",
    "    print(\"You win!\")\n",
    "elif(computer == 0 and you == -1):\n",
    "    print(\"You win!\")\n",
    "elif(computer == 0 and you == 1):\n",
    "    print(\"You Lose!\")\n",
    "elif(computer == 0 and you == 0):\n",
    "    print(\"Its a draw\")\n",
    "elif(computer == -1 and you == -1):\n",
    "    print(\"Its a draw\")\n",
    "elif(computer == 1 and you == 1):\n",
    "    print(\"Its a draw\")\n",
    "else:\n",
    "    print(\"Something went wrong!\")\n",
    "\n",
    "\n",
    "\n"
   ]
  },
  {
   "cell_type": "code",
   "execution_count": 14,
   "id": "f0e4f6e7-724f-4bb4-bc26-5caa82be3b7c",
   "metadata": {},
   "outputs": [
    {
     "name": "stdout",
     "output_type": "stream",
     "text": [
      "Hello\n",
      "Hello\n",
      "Hello\n",
      "Hello\n",
      "Hello\n",
      "Hello\n",
      "Hello\n",
      "Hello\n",
      "Hello\n",
      "Hello\n"
     ]
    }
   ],
   "source": [
    "for i in range(1,11):\n",
    "    print(\"Hello\")"
   ]
  },
  {
   "cell_type": "code",
   "execution_count": 5,
   "id": "590d5158-9319-447c-a6f1-80edc5959361",
   "metadata": {},
   "outputs": [
    {
     "name": "stdin",
     "output_type": "stream",
     "text": [
      "Enter your choice:  p\n"
     ]
    },
    {
     "name": "stdout",
     "output_type": "stream",
     "text": [
      "You chose Paper\n",
      "Computer chose Paper\n",
      "Its a draw\n"
     ]
    }
   ],
   "source": [
    "# ROCK PAPER SCISSORS\n",
    "'''\n",
    "1 for Rock\n",
    "-1 for Paper\n",
    "0 for Scissors\n",
    "'''\n",
    "\n",
    "import random\n",
    "computer = random.choice([-1, 1, 0])\n",
    "youstr = input(\"Enter your choice: \")\n",
    "youDict = {\"r\":1, \"p\":-1, \"s\":0}\n",
    "reverseDict = {1:\"Rock\", -1:\"Paper\", 0:\"Scissors\"}\n",
    "you = youDict[youstr]\n",
    "\n",
    "print(f\"You chose {reverseDict[you]}\\nComputer chose {reverseDict[computer]}\")\n",
    "\n",
    "if(computer == 1 and you == 1):\n",
    "    print(\"Its a draw\")\n",
    "elif(computer == -1 and you == -1):\n",
    "    print(\"Its a draw\")\n",
    "elif(computer == 0 and you == 0):\n",
    "    print(\"Its a draw\")\n",
    "elif(computer == 1 and you == -1):\n",
    "    print(\"You win!\")\n",
    "elif(computer == 1 and you == 0):\n",
    "    print(\"You lose\")\n",
    "elif(computer == -1 and you == 0):\n",
    "    print(\"You win!\")\n",
    "elif(computer == -1 and you == 1):\n",
    "    print(\"You lose\")\n",
    "elif(computer == 0 and you == 1):\n",
    "    print(\"You Win!\")\n",
    "elif(computer == 0 and you == -1):\n",
    "    print(\"You Lose\")\n",
    "\n"
   ]
  },
  {
   "cell_type": "code",
   "execution_count": null,
   "id": "f79f9441-d785-47c1-8f80-51c2396726ff",
   "metadata": {},
   "outputs": [],
   "source": []
  }
 ],
 "metadata": {
  "kernelspec": {
   "display_name": "Python 3 (ipykernel)",
   "language": "python",
   "name": "python3"
  },
  "language_info": {
   "codemirror_mode": {
    "name": "ipython",
    "version": 3
   },
   "file_extension": ".py",
   "mimetype": "text/x-python",
   "name": "python",
   "nbconvert_exporter": "python",
   "pygments_lexer": "ipython3",
   "version": "3.9.13"
  }
 },
 "nbformat": 4,
 "nbformat_minor": 5
}
